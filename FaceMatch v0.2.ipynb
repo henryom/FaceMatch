{
 "cells": [
  {
   "cell_type": "markdown",
   "metadata": {},
   "source": [
    "A clean(er) version of FaceMatch."
   ]
  },
  {
   "cell_type": "markdown",
   "metadata": {},
   "source": [
    "#### Imports"
   ]
  },
  {
   "cell_type": "code",
   "execution_count": 2,
   "metadata": {},
   "outputs": [],
   "source": [
    "import torch\n",
    "import torch.nn as nn\n",
    "import torch.optim as optim\n",
    "import torch.utils.data\n",
    "import torchvision\n",
    "import matplotlib.pyplot as plt\n",
    "from matplotlib import image\n",
    "from PIL import Image\n",
    "import cv2\n",
    "import os\n",
    "import numpy as np\n",
    "import random\n",
    "from random import randrange\n",
    "import math"
   ]
  },
  {
   "cell_type": "markdown",
   "metadata": {},
   "source": [
    "#### Configure Device"
   ]
  },
  {
   "cell_type": "code",
   "execution_count": 3,
   "metadata": {},
   "outputs": [],
   "source": [
    "dev = torch.device('cuda:0')"
   ]
  },
  {
   "cell_type": "markdown",
   "metadata": {},
   "source": [
    "# Data\n",
    "## Load Data\n",
    "#### Data Settings"
   ]
  },
  {
   "cell_type": "code",
   "execution_count": 4,
   "metadata": {},
   "outputs": [],
   "source": [
    "negative_images_per_pos_image = 10\n",
    "image_shape = (32, 32)"
   ]
  },
  {
   "cell_type": "markdown",
   "metadata": {},
   "source": [
    "#### Data Utilities"
   ]
  },
  {
   "cell_type": "code",
   "execution_count": 5,
   "metadata": {},
   "outputs": [],
   "source": [
    "# read an image from a path to a tensor and put it in the correct format\n",
    "def load_image_to_tensor(path):\n",
    "    img = image.imread(path)\n",
    "    resize = cv2.resize(img, image_shape)\n",
    "    tensor = torch.tensor(resize, device=dev)\n",
    "    # put in N Channel Height Width format!\n",
    "    permute = tensor.permute(2,0,1)\n",
    "    return permute\n",
    "\n",
    "# concatenates two images for input to the model\n",
    "def make_input_from_images(img_a, img_b):\n",
    "    cat = torch.cat((img_a, img_b), dim = 2)\n",
    "    return cat\n",
    "\n",
    "# generates an image from a pair of paths as stored in X in data\n",
    "def make_input_from_paths(x):\n",
    "    img_a = load_image_to_tensor(x[0])\n",
    "    img_b = load_image_to_tensor(x[1])\n",
    "    return make_input_from_images(img_a, img_b)\n",
    "\n",
    "# removes incorect files from an array of paths\n",
    "def remove_ds(files):\n",
    "    for f in files:\n",
    "        if '.DS' in f:\n",
    "            files.remove(f)\n",
    "    return files\n",
    "\n",
    "# show an example a dataset at a given index\n",
    "def show_example(dataset, idx):\n",
    "    idx_x, idx_y = dataset.__getitem__(idx)\n",
    "    title = '\\033[92m Positive Example \\033[0m' if idx_y == 1 else '\\033[93m Negative Example \\033[0m'\n",
    "    print(title)\n",
    "    plt.imshow(idx_x.cpu().permute(1,2,0).int())\n",
    "    plt.show()\n",
    "    "
   ]
  },
  {
   "cell_type": "markdown",
   "metadata": {},
   "source": [
    "#### Generate Dataset from Directory"
   ]
  },
  {
   "cell_type": "code",
   "execution_count": 6,
   "metadata": {},
   "outputs": [],
   "source": [
    "# Creates a Dataset for use with a DataLoader\n",
    "# Reads all images in a given folder into a dataset with given parameters\n",
    "class FaceMatchDataset(torch.utils.data.Dataset):\n",
    "    \n",
    "    def __init__(self, directory, negative_examples_per_image=10):\n",
    "        '''generate examples based on files'''\n",
    "        x = np.array([[]])\n",
    "        y = np.array([])\n",
    "        people_images_dict = {}\n",
    "        \n",
    "        # each folder contains a list of people\n",
    "        people_folders = os.listdir(directory)\n",
    "        people_folters = remove_ds(people_folders)\n",
    "        \n",
    "        for person_folder in people_folders:\n",
    "            images = os.listdir(directory + '/' + person_folder)\n",
    "            images = remove_ds(images)\n",
    "            image_paths = [] \n",
    "            for image in images:\n",
    "                    image_paths.append(directory + '/' + person_folder + '/' + image)\n",
    "\n",
    "            people_images_dict[person_folder] = image_paths\n",
    "        \n",
    "        for person in people_images_dict.keys():\n",
    "            # get positive images\n",
    "            positive_images = people_images_dict[person]\n",
    "    \n",
    "            # get negative images\n",
    "            people_images_dict_keys = list(people_images_dict.keys())\n",
    "            people_images_dict_keys.remove(person)\n",
    "            negative_images = []\n",
    "\n",
    "            for k in people_images_dict_keys:\n",
    "                negative_images = negative_images + people_images_dict[k]\n",
    "                \n",
    "            #for each image\n",
    "            for first_pos_image in positive_images:\n",
    "\n",
    "                #make positive examples\n",
    "                for second_pos_image in positive_images:\n",
    "                    \n",
    "                    positive_example = np.array([[first_pos_image, second_pos_image]])\n",
    "                    if (x.size == 0):\n",
    "                        x = positive_example\n",
    "                    else:\n",
    "                        x = np.append(x, positive_example, axis=0)\n",
    "                    y = np.concatenate((y, [1]))\n",
    "            \n",
    "                #make negative examples\n",
    "                for i in range(negative_examples_per_image):\n",
    "                    random_negative_image_filename = negative_images[randrange(len(negative_images))]\n",
    "                    if randrange(3) == 0:\n",
    "                        negative_example = np.array([[random_negative_image_filename, first_pos_image]])\n",
    "                        x = np.append(x, negative_example, axis=0)\n",
    "                        y = np.concatenate((y, [0]))\n",
    "                    else:\n",
    "                        negative_example = np.array([[first_pos_image, random_negative_image_filename]])\n",
    "                        x = np.append(x, negative_example, axis=0)\n",
    "                        y = np.concatenate((y, [0]))\n",
    "            \n",
    "        \n",
    "        self.x = x\n",
    "        self.y = y\n",
    "        \n",
    "    \n",
    "    def __len__(self):\n",
    "        #return the number of examples\n",
    "        return self.x.shape[0]\n",
    "    \n",
    "    def __getitem__(self, idx):\n",
    "        #make the example for the index\n",
    "        idx_x = make_input_from_paths(self.x[idx])\n",
    "        idx_y = torch.Tensor([self.y[idx]])\n",
    "        \n",
    "        return idx_x.float(), idx_y.float()\n",
    "    \n",
    "    def get_x_length(self):\n",
    "        return self.x.shape[0]\n",
    "    \n",
    "    def get_y_length(self):\n",
    "        return self.y.shape[0]"
   ]
  },
  {
   "cell_type": "markdown",
   "metadata": {},
   "source": [
    "#### Genereate Training Data"
   ]
  },
  {
   "cell_type": "code",
   "execution_count": null,
   "metadata": {},
   "outputs": [],
   "source": [
    "train_dataset = FaceMatchDataset('TrainCroppedDataset', negative_examples_per_image=20)"
   ]
  },
  {
   "cell_type": "markdown",
   "metadata": {},
   "source": [
    "#### Generate Test Data"
   ]
  },
  {
   "cell_type": "code",
   "execution_count": 12,
   "metadata": {},
   "outputs": [],
   "source": [
    "test_dataset = FaceMatchDataset('TestCroppedDataset', negative_examples_per_image=negative_images_per_pos_image)"
   ]
  },
  {
   "cell_type": "markdown",
   "metadata": {},
   "source": [
    "## Explore Data\n",
    "#### Length"
   ]
  },
  {
   "cell_type": "code",
   "execution_count": 13,
   "metadata": {},
   "outputs": [
    {
     "name": "stdout",
     "output_type": "stream",
     "text": [
      "Train Dataset Length: 35542 items\n",
      "Test Dataset Length: 1840 items\n"
     ]
    }
   ],
   "source": [
    "print('Train Dataset Length: ' + str(train_dataset.__len__()) + ' items') \n",
    "print('Test Dataset Length: ' + str(test_dataset.__len__()) + ' items') "
   ]
  },
  {
   "cell_type": "markdown",
   "metadata": {},
   "source": [
    "#### View at Example"
   ]
  },
  {
   "cell_type": "code",
   "execution_count": 23,
   "metadata": {},
   "outputs": [
    {
     "name": "stdout",
     "output_type": "stream",
     "text": [
      "\u001b[92m Positive Example \u001b[0m\n"
     ]
    },
    {
     "data": {
      "image/png": "[encoded data removed]",
      "text/plain": [
       "<Figure size 432x288 with 1 Axes>"
      ]
     },
     "metadata": {
      "needs_background": "light"
     },
     "output_type": "display_data"
    }
   ],
   "source": [
    "dataset = train_dataset\n",
    "# dataset = test_dataset\n",
    "idx = randrange(dataset.__len__())\n",
    "# idx = 6\n",
    "show_example(dataset, idx)"
   ]
  },
  {
   "cell_type": "markdown",
   "metadata": {},
   "source": [
    "# Model\n",
    "## Build Model\n",
    "#### Network Utilities "
   ]
  },
  {
   "cell_type": "code",
   "execution_count": 87,
   "metadata": {},
   "outputs": [],
   "source": [
    "def test_example(example):\n",
    "    model.eval()\n",
    "    x, y = example\n",
    "    net_inpt = torch.unsqueeze(x, 0)\n",
    "    pred = model(net_inpt.float())\n",
    "\n",
    "    print('\\033[92mCorrect!\\033[0m' if round(pred.cpu().detach().numpy()[0][0]) == y else '\\033[93mWrong!\\033[0m')\n",
    "    print(('Positive Example' if y == 1 else 'Negative Example') + ' Prediction: ' + str(pred.cpu().detach().numpy()[0][0]))\n",
    "    \n",
    "    plt.imshow(x.cpu().permute(1,2,0).int())\n",
    "    plt.show()\n",
    "    \n",
    "# Returns the % correct, number negative examples wrong, and the number positive examples wrong\n",
    "def compute_average_acuracy_for_dataset(ds):\n",
    "    model.eval()\n",
    "    test_loader = torch.utils.data.DataLoader(ds, batch_size=64)\n",
    "    y_hat = torch.Tensor([])\n",
    "    y = torch.Tensor([])\n",
    "\n",
    "    for batch_idx, (mini_x, mini_y) in enumerate(test_loader):\n",
    "        with torch.no_grad():\n",
    "            mini_y_hat = model(mini_x)\n",
    "        y_hat = torch.cat((y_hat, mini_y_hat.cpu()))\n",
    "        y = torch.cat((y, mini_y))\n",
    "\n",
    "    num_right = 0\n",
    "    num_neg_wrong = 0\n",
    "    num_pos_wrong = 0\n",
    "    for i in range(y.shape[0]):\n",
    "        if round(y_hat[i].detach().numpy()[0]) == y[i]:\n",
    "            num_right += 1\n",
    "        elif y[i] == 0:\n",
    "            num_neg_wrong += 1\n",
    "        else:\n",
    "            num_pos_wrong += 1\n",
    "    return num_right / y.shape[0] * 100, num_neg_wrong, num_pos_wrong\n",
    "\n",
    "def test_images(img_a, img_b):\n",
    "    x = make_input_from_paths((img_a, img_b))\n",
    "    y = model(x)\n",
    "    return y\n",
    "\n",
    "def test_images_and_show(img_a, img_b):\n",
    "    x = make_input_from_paths((img_a, img_b))\n",
    "    inpt = torch.unsqueeze(x, 0)\n",
    "    y = model(inpt.to(dev).float())\n",
    "    print('Prediction: ' + '\\033[92mMatch\\033[0m' if y > 0.5 else '\\033[93mNot-Match\\033[0m')\n",
    "    pred_per = round(y[0][0].cpu().detach().numpy() * 100, 4)\n",
    "    print('Output: ' + str(pred_per) + '%')\n",
    "    plt.imshow(x.cpu().permute(1,2,0).int())\n",
    "    plt.show()"
   ]
  },
  {
   "cell_type": "markdown",
   "metadata": {},
   "source": [
    "#### Define Model"
   ]
  },
  {
   "cell_type": "code",
   "execution_count": 25,
   "metadata": {},
   "outputs": [],
   "source": [
    "# Define the model\n",
    "# 3 convolutional layers followed by 2 fully connected layers\n",
    "class Net(nn.Module):\n",
    "    def __init__(self):\n",
    "        super(Net, self).__init__()\n",
    "        # layer 1\n",
    "        self.conv1 = nn.Conv2d(in_channels = 3, out_channels = 8, kernel_size = 3, padding = 1)\n",
    "        self.a1 = nn.ReLU()\n",
    "        self.pool1 = nn.MaxPool2d(kernel_size = 2)\n",
    "        #norm???\n",
    "        # layer 2\n",
    "        self.conv2 = nn.Conv2d(in_channels = 8, out_channels = 16, kernel_size = 3, padding = 1)\n",
    "        self.a2 = nn.ReLU()\n",
    "        self.pool2 = nn.MaxPool2d(kernel_size = 4)\n",
    "        # layer 3\n",
    "        self.conv3 = nn.Conv2d(in_channels = 16, out_channels = 32, kernel_size = 3, padding = 1)\n",
    "        self.a3 = nn.ReLU()\n",
    "        self.pool3 = nn.MaxPool2d(kernel_size = 4)\n",
    "        #linear\n",
    "        self.flatten = nn.Flatten()\n",
    "        self.fc1 = nn.Linear(in_features = 64, out_features = 32)\n",
    "        self.a4 = nn.ReLU()\n",
    "        self.fc2 = nn.Linear(in_features = 32, out_features = 1)\n",
    "        self.a5 = nn.ReLU()\n",
    "    \n",
    "\n",
    "    def forward(self, x):\n",
    "        # layer 1\n",
    "        x = self.conv1(x)\n",
    "        x = self.a1(x)\n",
    "        x = self.pool1(x)\n",
    "        \n",
    "        # layer 2\n",
    "        x = self.conv2(x)\n",
    "        x = self.a2(x)\n",
    "        x = self.pool2(x)\n",
    "        \n",
    "        #layer 3\n",
    "        x = self.conv3(x)\n",
    "        x = self.a3(x)\n",
    "        x = self.pool3(x)\n",
    "        \n",
    "        #linear\n",
    "        x = self.flatten(x)\n",
    "        x = self.fc1(x)\n",
    "        x = self.a4(x)\n",
    "        x = self.fc2(x)\n",
    "#         x = torch.tanh(x)\n",
    "        return(x)"
   ]
  },
  {
   "cell_type": "markdown",
   "metadata": {},
   "source": [
    "## Initialize Model"
   ]
  },
  {
   "cell_type": "code",
   "execution_count": 26,
   "metadata": {},
   "outputs": [],
   "source": [
    "model = Net()\n",
    "model.to(dev);"
   ]
  },
  {
   "cell_type": "markdown",
   "metadata": {},
   "source": [
    "## Train Model\n",
    "#### Train Settings"
   ]
  },
  {
   "cell_type": "code",
   "execution_count": 27,
   "metadata": {},
   "outputs": [],
   "source": [
    "batch_size = 64\n",
    "num_epochs = 20\n",
    "# learning_rate = 0.01"
   ]
  },
  {
   "cell_type": "code",
   "execution_count": 54,
   "metadata": {},
   "outputs": [
    {
     "name": "stdout",
     "output_type": "stream",
     "text": [
      "Training Epoch 20 / 20\r"
     ]
    }
   ],
   "source": [
    "train_loader = torch.utils.data.DataLoader(train_dataset, batch_size=batch_size, shuffle=True)\n",
    "optimizer = optim.Adadelta(model.parameters(), weight_decay = 1e-3)\n",
    "loss_function = nn.MSELoss(reduction='sum')\n",
    "model.train()\n",
    "\n",
    "for epoch in range(num_epochs):\n",
    "    print('Training Epoch ' + str(epoch + 1) + ' / ' + str( num_epochs), end='\\r')\n",
    "    \n",
    "    for batch_idx, (mini_x, mini_y) in enumerate(train_loader):\n",
    "        optimizer.zero_grad()\n",
    "        mini_y_hat = model(mini_x.to(dev))\n",
    "        loss = loss_function(mini_y_hat.cpu(), mini_y)\n",
    "        loss.backward()\n",
    "        optimizer.step()\n",
    "\n",
    "optimizer.zero_grad()"
   ]
  },
  {
   "cell_type": "markdown",
   "metadata": {},
   "source": [
    "### Load Model"
   ]
  },
  {
   "cell_type": "code",
   "execution_count": null,
   "metadata": {},
   "outputs": [],
   "source": [
    "path = ''\n",
    "model = torch.load(path).to(dev)"
   ]
  },
  {
   "cell_type": "markdown",
   "metadata": {},
   "source": [
    "### Save Model"
   ]
  },
  {
   "cell_type": "code",
   "execution_count": 63,
   "metadata": {},
   "outputs": [],
   "source": [
    "path = 'FaceMatch-test-57-train-85.pt'\n",
    "torch.save(model, path)"
   ]
  },
  {
   "cell_type": "markdown",
   "metadata": {},
   "source": [
    "## Explore Model"
   ]
  },
  {
   "cell_type": "markdown",
   "metadata": {},
   "source": [
    "#### Test Example"
   ]
  },
  {
   "cell_type": "code",
   "execution_count": 60,
   "metadata": {},
   "outputs": [
    {
     "name": "stdout",
     "output_type": "stream",
     "text": [
      "\u001b[92mCorrect!\u001b[0m\n",
      "Positive Example Prediction: 0.5781455\n"
     ]
    },
    {
     "data": {
      "image/png": "[encoded data removed]",
      "text/plain": [
       "<Figure size 432x288 with 1 Axes>"
      ]
     },
     "metadata": {
      "needs_background": "light"
     },
     "output_type": "display_data"
    }
   ],
   "source": [
    "dataset = train_dataset\n",
    "# dataset = test_dataset\n",
    "idx = randrange(dataset.__len__())\n",
    "# idx = 8\n",
    "test_example(dataset.__getitem__(idx))"
   ]
  },
  {
   "cell_type": "markdown",
   "metadata": {},
   "source": [
    "#### Test Entire Dataset"
   ]
  },
  {
   "cell_type": "code",
   "execution_count": 62,
   "metadata": {},
   "outputs": [
    {
     "name": "stdout",
     "output_type": "stream",
     "text": [
      "Accuracy: 85.1387091328569% Missed Positives: 601 Missed Negatives: 4681\n"
     ]
    }
   ],
   "source": [
    "dataset = train_dataset\n",
    "# dataset = test_dataset\n",
    "per, nnw, npw = compute_average_acuracy_for_dataset(dataset)  \n",
    "print('Accuracy: ' + str(per) + '%' + ' Missed Positives: ' + str(npw) + ' Missed Negatives: ' + str(nnw))\n",
    "\n"
   ]
  },
  {
   "cell_type": "markdown",
   "metadata": {},
   "source": [
    "### Test Singles"
   ]
  },
  {
   "cell_type": "code",
   "execution_count": 103,
   "metadata": {},
   "outputs": [],
   "source": [
    "henry0 = 'Testing/Henry0.jpeg'\n",
    "henry1 = 'Testing/Henry1.jpeg'\n",
    "andrew0 = 'Testing/Andrew0.jpeg'\n",
    "andrew1 = 'Testing/Andrew1.jpeg'\n",
    "andrew2 = 'Testing/Andrew2.jpeg'\n",
    "andrew3 = 'Testing/Andrew3.jpeg'\n",
    "andrewsbrother0 = 'Testing/AndrewsBrother0.jpeg'\n",
    "\n",
    "clinton0 = 'TestData/clinton0.jpg'\n",
    "jassy0 = 'TestData/jassy0.jpg'"
   ]
  },
  {
   "cell_type": "code",
   "execution_count": 104,
   "metadata": {},
   "outputs": [
    {
     "name": "stdout",
     "output_type": "stream",
     "text": [
      "Prediction: \u001b[92mMatch\u001b[0m\n",
      "Output: 60.8393%\n"
     ]
    },
    {
     "data": {
      "image/png": "[encoded data removed]",
      "text/plain": [
       "<Figure size 432x288 with 1 Axes>"
      ]
     },
     "metadata": {
      "needs_background": "light"
     },
     "output_type": "display_data"
    },
    {
     "name": "stdout",
     "output_type": "stream",
     "text": [
      "\u001b[93mNot-Match\u001b[0m\n",
      "Output: 45.0755%\n"
     ]
    },
    {
     "data": {
      "image/png": "[encoded data removed]",
      "text/plain": [
       "<Figure size 432x288 with 1 Axes>"
      ]
     },
     "metadata": {
      "needs_background": "light"
     },
     "output_type": "display_data"
    }
   ],
   "source": [
    "img_a = jassy0\n",
    "img_b = andrew0\n",
    "\n",
    "test_images_and_show(img_a, img_b)\n",
    "test_images_and_show(img_b, img_a)"
   ]
  },
  {
   "cell_type": "markdown",
   "metadata": {},
   "source": [
    "## Lab"
   ]
  },
  {
   "cell_type": "code",
   "execution_count": 69,
   "metadata": {},
   "outputs": [
    {
     "name": "stdout",
     "output_type": "stream",
     "text": [
      "Test Dataset Positive Examples: 1040 Negative Examples: 800\n",
      "Train Dataset Positive Examples: 22722 Negative Examples: 12820\n"
     ]
    }
   ],
   "source": [
    "\n",
    "def get_pos_neg_examples(dataset):\n",
    "    pos_ex = 0\n",
    "    neg_ex = 0\n",
    "\n",
    "    for idx in range(dataset.__len__()):\n",
    "        x, y = dataset.__getitem__(idx)\n",
    "        if y == 1:\n",
    "            pos_ex += 1\n",
    "        else:\n",
    "            neg_ex += 1\n",
    "            \n",
    "    return pos_ex, neg_ex\n",
    "\n",
    "test_pos_ex, test_neg_ex = get_pos_neg_examples(test_dataset)\n",
    "print('Test Dataset Positive Examples: ' + str(test_pos_ex) + ' Negative Examples: ' + str(test_neg_ex))\n",
    "    \n",
    "train_pos_ex, train_neg_ex = get_pos_neg_examples(train_dataset)\n",
    "print('Train Dataset Positive Examples: ' + str(train_pos_ex) + ' Negative Examples: ' + str(train_neg_ex))\n",
    "    "
   ]
  },
  {
   "cell_type": "code",
   "execution_count": null,
   "metadata": {},
   "outputs": [],
   "source": [
    "\n"
   ]
  },
  {
   "cell_type": "markdown",
   "metadata": {},
   "source": []
  },
  {
   "cell_type": "code",
   "execution_count": null,
   "metadata": {},
   "outputs": [],
   "source": []
  },
  {
   "cell_type": "markdown",
   "metadata": {},
   "source": []
  },
  {
   "cell_type": "code",
   "execution_count": null,
   "metadata": {},
   "outputs": [],
   "source": []
  }
 ],
 "metadata": {
  "kernelspec": {
   "display_name": "Python 3",
   "language": "python",
   "name": "python3"
  },
  "language_info": {
   "codemirror_mode": {
    "name": "ipython",
    "version": 3
   },
   "file_extension": ".py",
   "mimetype": "text/x-python",
   "name": "python",
   "nbconvert_exporter": "python",
   "pygments_lexer": "ipython3",
   "version": "3.7.8"
  }
 },
 "nbformat": 4,
 "nbformat_minor": 4
}
